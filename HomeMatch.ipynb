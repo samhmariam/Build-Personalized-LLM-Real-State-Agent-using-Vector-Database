{
 "cells": [
  {
   "cell_type": "markdown",
   "metadata": {},
   "source": [
    "## Setting Up Project Environment"
   ]
  },
  {
   "cell_type": "code",
   "execution_count": 1,
   "metadata": {},
   "outputs": [],
   "source": [
    "import os\n",
    "import openai\n",
    "import random\n",
    "import csv\n",
    "import pandas as pd\n",
    "\n",
    "openai.api_base = \"https://openai.vocareum.com/v1\"\n",
    "openai.api_key = \"voc-484115602126677146700166ffd9d85304c7.61070966\"\n"
   ]
  },
  {
   "cell_type": "markdown",
   "metadata": {},
   "source": [
    "## Synthetic Data Generation"
   ]
  },
  {
   "cell_type": "markdown",
   "metadata": {},
   "source": [
    "### Generating Real Estate Listings"
   ]
  },
  {
   "cell_type": "code",
   "execution_count": 2,
   "metadata": {},
   "outputs": [],
   "source": [
    "def get_completion(prompt, model=\"gpt-3.5-turbo\"):\n",
    "    messages = [{\"role\": \"user\", \"content\": prompt}]\n",
    "    response = openai.ChatCompletion.create(\n",
    "        model=model,\n",
    "        messages=messages,\n",
    "        temperature=0, # this is the degree of randomness of the model's output\n",
    "    )\n",
    "    return response.choices[0].message[\"content\"]"
   ]
  },
  {
   "cell_type": "code",
   "execution_count": 15,
   "metadata": {},
   "outputs": [
    {
     "name": "stdout",
     "output_type": "stream",
     "text": [
      "neighborhood,price,bedrooms,bathrooms,house size,description,neighborhood description\n",
      "Willow Creek,500000,4,3,2500,\"This charming colonial-style home features a wrap-around porch, hardwood floors, and a cozy fireplace. The backyard includes a deck and lush landscaping.\",\"Willow Creek is a family-friendly neighborhood with top-rated schools, parks, and a variety of dining options nearby.\"\n",
      "Sunset Hills,750000,5,4,3500,\"This contemporary home offers an open floor plan, high-end finishes, and a chef's kitchen with quartz countertops. The backyard boasts a pool, spa, and outdoor living space.\",\"Sunset Hills is known for its luxury homes and scenic views. Residents enjoy easy access to hiking trails, shopping centers, and fine dining restaurants.\"\n",
      "Maple Grove,400000,3,2,2000,\"This newly renovated ranch-style home features a spacious living room, updated kitchen, and a master suite with a walk-in closet. The backyard includes a patio and mature trees for privacy.\",\"Maple Grove is a quiet neighborhood with tree-lined streets and friendly neighbors. It is conveniently located near schools, parks, and shopping centers.\"\n",
      "River Oaks,1000000,6,5,4500,\"This elegant Mediterranean villa offers a grand foyer, marble floors, and a gourmet kitchen with custom cabinetry. The backyard features a pool, spa, and outdoor fireplace.\",\"River Oaks is an upscale neighborhood known for its luxury estates and exclusive country club. Residents enjoy a high standard of living and easy access to top-rated schools and fine dining restaurants.\"\n",
      "Pinecrest Heights,600000,4,3,2800,\"This traditional two-story home boasts a formal dining room, hardwood floors, and a sunroom overlooking the backyard. The outdoor space includes a patio and garden area.\",\"Pinecrest Heights is a well-established neighborhood with mature trees and quiet streets. It is close to parks, schools, and shopping centers, making it ideal for families.\"\n",
      "Oakwood Park,450000,3,2,2200,\"This cozy bungalow features a brick fireplace, built-in bookshelves, and a renovated kitchen with stainless steel appliances. The backyard offers a deck and fenced yard.\",\"Oakwood Park is a historic neighborhood with charming homes and a strong sense of community. Residents enjoy easy access to local shops, restaurants, and public transportation.\"\n",
      "Cedar Ridge,800000,5,4,3200,\"This modern farmhouse boasts an open concept layout, shiplap walls, and a chef's kitchen with a large island. The backyard includes a covered patio and fire pit.\",\"Cedar Ridge is a trendy neighborhood with a mix of new construction and historic homes. It is close to trendy boutiques, cafes, and art galleries, making it popular among young professionals.\"\n",
      "Lakeview Terrace,700000,4,3,3000,\"This waterfront property offers panoramic lake views, a private dock, and a screened-in porch for outdoor dining. The interior features a stone fireplace, vaulted ceilings, and a gourmet kitchen.\",\"Lakeview Terrace is a sought-after neighborhood for water enthusiasts and nature lovers. Residents enjoy boating, fishing, and hiking trails in the nearby park, as well as a strong sense of community.\"\n",
      "Hillcrest Heights,550000,4,3,2600,\"This mid-century modern home features an open floor plan, vaulted ceilings, and a wall of windows overlooking the backyard. The outdoor space includes a deck and mature landscaping.\",\"Hillcrest Heights is a quiet neighborhood with tree-lined streets and friendly neighbors. It is close to schools, parks, and shopping centers, making it ideal for families.\"\n",
      "Meadowbrook Estates,900000,5,4,3800,\"This custom-built estate offers luxury finishes, a grand staircase, and a gourmet kitchen with top-of-the-line appliances. The backyard features a pool, spa, and outdoor kitchen.\",\"Meadowbrook Estates is an exclusive neighborhood with large estate homes and private gated entrances. Residents enjoy a high standard of living and easy access to top-rated schools and country clubs.\"\n",
      "Greenwood Village,650000,4,3,2700,\"This contemporary home boasts a sleek design, high ceilings, and a chef's kitchen with quartz countertops. The backyard includes a covered patio and fire pit for outdoor entertaining.\",\"Greenwood Village is a vibrant neighborhood with a mix of modern homes and historic properties. It is close to trendy restaurants, boutiques, and art galleries, making it popular among young professionals.\"\n",
      "Sunnydale Heights,480000,3,2,2100,\"This ranch-style home features a cozy living room, updated kitchen, and a master suite with a walk-in closet. The backyard offers a deck and fenced yard for outdoor relaxation.\",\"Sunnydale Heights is a family-friendly neighborhood with tree-lined streets and a strong sense of community. It is close to parks, schools, and shopping centers, making it ideal for families.\"\n",
      "Harbor Pointe,950000,6,5,4000,\"This waterfront property offers stunning views of the harbor, a private dock, and a spacious deck for outdoor entertaining. The interior features a stone fireplace, hardwood floors, and a gourmet kitchen with a breakfast nook.\",\"Harbor Pointe is a prestigious neighborhood for boating enthusiasts and nature lovers. Residents enjoy easy access to the marina, yacht club, and waterfront dining options, as well as a strong sense of community.\"\n",
      "Whispering Pines,520000,4,3,2400,\"This traditional two-story home boasts a formal dining room, hardwood floors, and a sunroom overlooking the backyard. The outdoor space includes a patio and garden area for outdoor relaxation.\",\"Whispering Pines is a peaceful neighborhood with tree-lined streets and friendly neighbors. It is close to parks, schools, and shopping centers, making it ideal for families.\"\n",
      "Golden Oaks,780000,5,4,3300,\"This custom-built home offers luxury finishes, a grand staircase, and a gourmet kitchen with top-of-the-line appliances. The backyard features a pool, spa, and outdoor kitchen for outdoor entertaining.\",\"Golden Oaks is an upscale neighborhood with large estate homes and private gated entrances. Residents enjoy a high standard of living and easy access to top-rated schools and country clubs.\"\n",
      "Silverwood Heights,680000,4,3,2900,\"This contemporary home boasts an open concept layout, high ceilings, and a chef's kitchen with quartz countertops. The backyard includes a covered patio and fire pit for outdoor entertaining.\",\"Silverwood Heights is a trendy neighborhood with a mix of modern homes and historic properties. It is close to trendy restaurants, boutiques, and art galleries, making it popular among young professionals.\"\n",
      "Mossy Oak Estates,520000,4,3,2400,\"This charming cottage-style home features a cozy living room, updated kitchen, and a master suite with a walk-in closet. The backyard offers a deck and fenced yard for outdoor relaxation.\",\"Mossy Oak Estates is a family-friendly neighborhood with tree-lined streets and a strong sense of community. It is close to parks, schools, and shopping centers, making it ideal for families.\"\n",
      "Whitetail Ridge,720000,5,4,3100,\"This modern farmhouse boasts an open concept layout, shiplap walls, and a chef's kitchen with a large island. The backyard includes a covered patio and fire pit for outdoor entertaining.\",\"Whitetail Ridge is a trendy neighborhood with a mix of new construction and historic homes. It is close to trendy boutiques, cafes, and art galleries, making it popular among young professionals.\"\n",
      "Cypress Pointe,580000,4,3,2500,\"This coastal-inspired home offers a light-filled interior, hardwood floors, and a gourmet kitchen with a breakfast nook. The backyard features a deck and lush landscaping for outdoor relaxation.\",\"Cypress Pointe is a waterfront neighborhood known for its scenic views and boating opportunities. Residents enjoy easy access to the marina, yacht club, and waterfront dining options, as well as a strong sense of community.\"\n",
      "Stonebridge Estates,850000,5,4,3600,\"This custom-built estate offers luxury finishes, a grand staircase, and a gourmet kitchen with top-of-the-line appliances. The backyard features a pool, spa, and outdoor kitchen for outdoor entertaining.\",\"Stonebridge Estates is an exclusive neighborhood with large estate homes and private gated entrances. Residents enjoy a high standard of living and easy access to top-rated schools and country clubs.\"\n",
      "Oakwood Hills,500000,4,3,2600,\"This traditional two-story home boasts a formal dining room, hardwood floors, and a sunroom overlooking the backyard. The outdoor space includes a patio and garden area for outdoor relaxation.\",\"Oakwood Hills is a peaceful neighborhood with tree-lined streets and friendly neighbors. It is close to parks, schools, and shopping centers, making it ideal for families.\"\n",
      "Riverbend Estates,920000,6,5,4200,\"This waterfront property offers stunning views of the river, a private dock, and a spacious deck for outdoor entertaining. The interior features a stone fireplace, hardwood floors, and a gourmet kitchen with a breakfast nook.\",\"Riverbend Estates is a prestigious neighborhood for boating enthusiasts and nature lovers. Residents enjoy easy access to the marina, yacht club, and waterfront dining options, as well as a strong sense of community.\"\n",
      "Hilltop Manor,540000,4,3,2700,\"This cozy bungalow features a brick fireplace, built-in bookshelves, and a renovated kitchen with stainless steel appliances. The backyard offers a deck and fenced yard for outdoor relaxation.\",\"Hilltop Manor is a historic neighborhood with charming homes and a strong sense of community. Residents enjoy easy access to local shops, restaurants, and public transportation.\"\n",
      "Sycamore Grove,790000,5,4,3400,\"This modern farmhouse boasts an open concept layout, shiplap walls, and a chef's kitchen with a large island. The backyard includes a covered patio and fire pit for outdoor entertaining.\",\"Sycamore Grove is a trendy neighborhood with a mix of new construction and historic homes. It is close to trendy boutiques, cafes, and art galleries, making it popular among young professionals.\"\n",
      "Lakeside Village,670000,4,3,3000,\"This waterfront property offers panoramic lake views, a private dock, and a screened-in porch for outdoor dining. The interior features a stone fireplace, vaulted ceilings, and a gourmet kitchen.\",\"Lakeside Village is a sought-after neighborhood for water enthusiasts and nature lovers. Residents enjoy boating, fishing, and hiking trails in the nearby park, as well as a strong sense of community.\"\n",
      "Pinehurst Park,530000,4,3,2600,\"This mid-century modern home features an open floor plan, vaulted ceilings, and a wall of windows overlooking the backyard. The outdoor space includes a deck and mature landscaping.\",\"Pinehurst Park is a quiet neighborhood with tree-lined streets and friendly neighbors. It is close to schools, parks, and shopping centers, making it ideal for families.\"\n"
     ]
    }
   ],
   "source": [
    "prompt = f\"\"\"\n",
    "Generate a list of twenty-six made-up real estate listings along with their neighborhood, price (in numerical format without currency symbols or commas), bedrooms, bathrooms, size in sqft, detailed description of the property, and detailed description of the neighborhood.\n",
    "Provide detailed descriptions that include:\n",
    "- Property features: Unique selling points, amenities, architectural style, views, etc.\n",
    "- Neighborhood amenities: Nearby parks, schools, shopping centers, restaurants, transportation options, etc.\n",
    "- Lifestyle: The overall atmosphere and vibe of the neighborhood, including safety, walkability, and community events.\n",
    "Examples:\n",
    "- Detailed property description: \"This modern farmhouse boasts soaring ceilings, floor-to-ceiling windows, and a gourmet kitchen with high-end appliances. The spacious backyard features a saltwater pool, spa, and outdoor kitchen, perfect for entertaining.\"\n",
    "- Detailed neighborhood description: \"Located in the heart of a thriving community, this neighborhood offers easy access to top-rated schools, parks, and shopping centers. Residents enjoy a strong sense of community and a variety of local events throughout the year.\"\n",
    "Provide the listings in CSV format with the following keys: neighborhood, price, bedrooms, bathrooms, house size, description, neighborhood description. Ensure the descriptions are enclosed in double quotes.\n",
    "\"\"\"\n",
    "response = get_completion(prompt)\n",
    "print(response)"
   ]
  },
  {
   "cell_type": "code",
   "execution_count": 16,
   "metadata": {},
   "outputs": [],
   "source": [
    "# Write the response to a CSV file\n",
    "with open(\"real_state_listings.csv\", \"w\") as f:\n",
    "    f.write(response)\n"
   ]
  },
  {
   "cell_type": "markdown",
   "metadata": {},
   "source": [
    "## Semantic Search"
   ]
  },
  {
   "cell_type": "markdown",
   "metadata": {},
   "source": [
    "### Creating a Vector Database and Storing Listings"
   ]
  },
  {
   "cell_type": "code",
   "execution_count": 2,
   "metadata": {},
   "outputs": [],
   "source": [
    "# initialize and configure ChromaDB\n",
    "import chromadb\n",
    "from chromadb.utils.embedding_functions import SentenceTransformerEmbeddingFunction"
   ]
  },
  {
   "cell_type": "code",
   "execution_count": 3,
   "metadata": {},
   "outputs": [
    {
     "name": "stderr",
     "output_type": "stream",
     "text": [
      "c:\\Users\\samue\\miniconda3\\envs\\llm-agent\\lib\\site-packages\\sentence_transformers\\cross_encoder\\CrossEncoder.py:13: TqdmExperimentalWarning: Using `tqdm.autonotebook.tqdm` in notebook mode. Use `tqdm.tqdm` instead to force console mode (e.g. in jupyter console)\n",
      "  from tqdm.autonotebook import tqdm, trange\n"
     ]
    }
   ],
   "source": [
    "chroma_client = chromadb.Client()\n",
    "embedding_function = SentenceTransformerEmbeddingFunction(model_name=\"all-MiniLM-L6-v2\")\n",
    "chroma_collection = chroma_client.get_or_create_collection(name=\"real_estate_listings\", embedding_function=embedding_function)\n"
   ]
  },
  {
   "cell_type": "code",
   "execution_count": 4,
   "metadata": {},
   "outputs": [
    {
     "name": "stdout",
     "output_type": "stream",
     "text": [
      "        neighborhood    price  bedrooms  bathrooms  house size  \\\n",
      "0       Willow Creek   500000         4          3        2500   \n",
      "1       Sunset Hills   750000         5          4        3500   \n",
      "2        Maple Grove   400000         3          2        2000   \n",
      "3         River Oaks  1000000         6          5        4500   \n",
      "4  Pinecrest Heights   600000         4          3        2800   \n",
      "\n",
      "                                         description  \\\n",
      "0  This charming colonial-style home features a w...   \n",
      "1  This contemporary home offers an open floor pl...   \n",
      "2  This newly renovated ranch-style home features...   \n",
      "3  This elegant Mediterranean villa offers a gran...   \n",
      "4  This traditional two-story home boasts a forma...   \n",
      "\n",
      "                            neighborhood description  \n",
      "0  Willow Creek is a family-friendly neighborhood...  \n",
      "1  Sunset Hills is known for its luxury homes and...  \n",
      "2  Maple Grove is a quiet neighborhood with tree-...  \n",
      "3  River Oaks is an upscale neighborhood known fo...  \n",
      "4  Pinecrest Heights is a well-established neighb...  \n",
      "(26, 7)\n"
     ]
    }
   ],
   "source": [
    "# Load the CSV file\n",
    "listings_df = pd.read_csv(\"real_state_listings.csv\")\n",
    "print(listings_df.head())\n",
    "print(listings_df.shape)\n",
    "\n"
   ]
  },
  {
   "cell_type": "markdown",
   "metadata": {},
   "source": [
    "### Generating and Storing Embeddings"
   ]
  },
  {
   "cell_type": "code",
   "execution_count": 5,
   "metadata": {},
   "outputs": [],
   "source": [
    "from sentence_transformers import SentenceTransformer\n",
    "\n",
    "model = SentenceTransformer('all-MiniLM-L6-v2')\n",
    "\n",
    "listings_df['description_embedding'] = listings_df['description'].apply(lambda x: model.encode(x).tolist())\n",
    "listings_df['neighborhood_description_embedding'] = listings_df['neighborhood description'].apply(lambda x: model.encode(x).tolist())\n",
    "\n",
    "    "
   ]
  },
  {
   "cell_type": "code",
   "execution_count": 6,
   "metadata": {},
   "outputs": [],
   "source": [
    "# Recreate the collection with the correct embedding function\n",
    "combined_descriptions = listings_df['description'].values.tolist() + listings_df['neighborhood description'].values.tolist()\n",
    "combined_embedding = listings_df['description_embedding'] + listings_df['neighborhood_description_embedding']\n",
    "\n",
    "for index, row in listings_df.iterrows():\n",
    "    combined_embedding = row['description_embedding'] + row['neighborhood_description_embedding']\n",
    "    chroma_collection.add(\n",
    "        documents=[combined_descriptions[index]],\n",
    "        ids=[f\"listing_{index}\"],\n",
    "        embeddings=[combined_embedding],\n",
    "        metadatas=[{k: (str(v) if isinstance(v, list) else v) for k, v in listings_df.iloc[index].to_dict().items()}]\n",
    "    )\n"
   ]
  },
  {
   "cell_type": "code",
   "execution_count": 7,
   "metadata": {},
   "outputs": [
    {
     "data": {
      "text/plain": [
       "26"
      ]
     },
     "execution_count": 7,
     "metadata": {},
     "output_type": "execute_result"
    }
   ],
   "source": [
    "chroma_collection.count()"
   ]
  },
  {
   "cell_type": "markdown",
   "metadata": {},
   "source": [
    "### Buyer Preferences stated in Natural Language"
   ]
  },
  {
   "cell_type": "code",
   "execution_count": 8,
   "metadata": {},
   "outputs": [],
   "source": [
    "# define a query\n",
    "query = \"I'm looking for a luxury waterfront home with at least 6 bedrooms and no fewer than 3 bathrooms, featuring a private deck.\""
   ]
  },
  {
   "cell_type": "markdown",
   "metadata": {},
   "source": [
    "### Semantic Search Implementation & Listing Retrieval "
   ]
  },
  {
   "cell_type": "code",
   "execution_count": 9,
   "metadata": {},
   "outputs": [
    {
     "name": "stdout",
     "output_type": "stream",
     "text": [
      "Neighborhood: Riverbend Estates\n",
      "Price: 920000\n",
      "Bedrooms: 6\n",
      "Bathrooms: 5\n",
      "Size: 4200\n",
      "Description: This waterfront property offers stunning views of the river, a private dock, and a spacious deck for outdoor entertaining. The interior features a stone fireplace, hardwood floors, and a gourmet kitchen with a breakfast nook.\n"
     ]
    }
   ],
   "source": [
    "# embed the query\n",
    "query_embedding = model.encode(query).tolist() * 2  # Ensure the embedding dimension matches the collection's dimensionality\n",
    "results = chroma_collection.query(query_embeddings=[query_embedding], n_results=1)\n",
    "\n",
    "# print the results\n",
    "for result in results['metadatas']:\n",
    "    for metadata in result:\n",
    "        print(f\"Neighborhood: {metadata['neighborhood']}\")\n",
    "        print(f\"Price: {metadata['price']}\")\n",
    "        print(f\"Bedrooms: {metadata['bedrooms']}\")\n",
    "        print(f\"Bathrooms: {metadata['bathrooms']}\")\n",
    "        print(f\"Size: {metadata['house size']}\")\n",
    "        print(f\"Description: {metadata['description']}\")\n",
    "    "
   ]
  },
  {
   "cell_type": "markdown",
   "metadata": {},
   "source": [
    "## Augmented Response Generation"
   ]
  },
  {
   "cell_type": "markdown",
   "metadata": {},
   "source": [
    "### LLM Augmentation"
   ]
  },
  {
   "cell_type": "code",
   "execution_count": 10,
   "metadata": {},
   "outputs": [],
   "source": [
    "# desfine a function that responds to user queries\n",
    "def chat_completion_from_messages(messages, model=\"gpt-3.5-turbo\", temperature=0):\n",
    "    response = openai.ChatCompletion.create(\n",
    "        model=model,\n",
    "        messages=messages,\n",
    "        temperature=temperature,\n",
    "    )\n",
    "    #print(str(response.choices[0].message))\n",
    "    return response.choices[0].message[\"content\"]"
   ]
  },
  {
   "cell_type": "markdown",
   "metadata": {},
   "source": [
    "### Chat Interface Implementation"
   ]
  },
  {
   "cell_type": "code",
   "execution_count": 11,
   "metadata": {},
   "outputs": [
    {
     "data": {
      "text/html": [
       "<script type=\"esms-options\">{\"shimMode\": true}</script><style>*[data-root-id],\n",
       "*[data-root-id] > * {\n",
       "  box-sizing: border-box;\n",
       "  font-family: var(--jp-ui-font-family);\n",
       "  font-size: var(--jp-ui-font-size1);\n",
       "  color: var(--vscode-editor-foreground, var(--jp-ui-font-color1));\n",
       "}\n",
       "\n",
       "/* Override VSCode background color */\n",
       ".cell-output-ipywidget-background:has(\n",
       "    > .cell-output-ipywidget-background > .lm-Widget > *[data-root-id]\n",
       "  ),\n",
       ".cell-output-ipywidget-background:has(> .lm-Widget > *[data-root-id]) {\n",
       "  background-color: transparent !important;\n",
       "}\n",
       "</style>"
      ]
     },
     "metadata": {},
     "output_type": "display_data"
    },
    {
     "data": {
      "application/javascript": "(function(root) {\n  function now() {\n    return new Date();\n  }\n\n  const force = true;\n  const py_version = '3.6.0'.replace('rc', '-rc.').replace('.dev', '-dev.');\n  const reloading = false;\n  const Bokeh = root.Bokeh;\n\n  // Set a timeout for this load but only if we are not already initializing\n  if (typeof (root._bokeh_timeout) === \"undefined\" || (force || !root._bokeh_is_initializing)) {\n    root._bokeh_timeout = Date.now() + 5000;\n    root._bokeh_failed_load = false;\n  }\n\n  function run_callbacks() {\n    try {\n      root._bokeh_onload_callbacks.forEach(function(callback) {\n        if (callback != null)\n          callback();\n      });\n    } finally {\n      delete root._bokeh_onload_callbacks;\n    }\n    console.debug(\"Bokeh: all callbacks have finished\");\n  }\n\n  function load_libs(css_urls, js_urls, js_modules, js_exports, callback) {\n    if (css_urls == null) css_urls = [];\n    if (js_urls == null) js_urls = [];\n    if (js_modules == null) js_modules = [];\n    if (js_exports == null) js_exports = {};\n\n    root._bokeh_onload_callbacks.push(callback);\n\n    if (root._bokeh_is_loading > 0) {\n      // Don't load bokeh if it is still initializing\n      console.debug(\"Bokeh: BokehJS is being loaded, scheduling callback at\", now());\n      return null;\n    } else if (js_urls.length === 0 && js_modules.length === 0 && Object.keys(js_exports).length === 0) {\n      // There is nothing to load\n      run_callbacks();\n      return null;\n    }\n\n    function on_load() {\n      root._bokeh_is_loading--;\n      if (root._bokeh_is_loading === 0) {\n        console.debug(\"Bokeh: all BokehJS libraries/stylesheets loaded\");\n        run_callbacks()\n      }\n    }\n    window._bokeh_on_load = on_load\n\n    function on_error(e) {\n      const src_el = e.srcElement\n      console.error(\"failed to load \" + (src_el.href || src_el.src));\n    }\n\n    const skip = [];\n    if (window.requirejs) {\n      window.requirejs.config({'packages': {}, 'paths': {}, 'shim': {}});\n      root._bokeh_is_loading = css_urls.length + 0;\n    } else {\n      root._bokeh_is_loading = css_urls.length + js_urls.length + js_modules.length + Object.keys(js_exports).length;\n    }\n\n    const existing_stylesheets = []\n    const links = document.getElementsByTagName('link')\n    for (let i = 0; i < links.length; i++) {\n      const link = links[i]\n      if (link.href != null) {\n        existing_stylesheets.push(link.href)\n      }\n    }\n    for (let i = 0; i < css_urls.length; i++) {\n      const url = css_urls[i];\n      const escaped = encodeURI(url)\n      if (existing_stylesheets.indexOf(escaped) !== -1) {\n        on_load()\n        continue;\n      }\n      const element = document.createElement(\"link\");\n      element.onload = on_load;\n      element.onerror = on_error;\n      element.rel = \"stylesheet\";\n      element.type = \"text/css\";\n      element.href = url;\n      console.debug(\"Bokeh: injecting link tag for BokehJS stylesheet: \", url);\n      document.body.appendChild(element);\n    }    var existing_scripts = []\n    const scripts = document.getElementsByTagName('script')\n    for (let i = 0; i < scripts.length; i++) {\n      var script = scripts[i]\n      if (script.src != null) {\n        existing_scripts.push(script.src)\n      }\n    }\n    for (let i = 0; i < js_urls.length; i++) {\n      const url = js_urls[i];\n      const escaped = encodeURI(url)\n      if (skip.indexOf(escaped) !== -1 || existing_scripts.indexOf(escaped) !== -1) {\n        if (!window.requirejs) {\n          on_load();\n        }\n        continue;\n      }\n      const element = document.createElement('script');\n      element.onload = on_load;\n      element.onerror = on_error;\n      element.async = false;\n      element.src = url;\n      console.debug(\"Bokeh: injecting script tag for BokehJS library: \", url);\n      document.head.appendChild(element);\n    }\n    for (let i = 0; i < js_modules.length; i++) {\n      const url = js_modules[i];\n      const escaped = encodeURI(url)\n      if (skip.indexOf(escaped) !== -1 || existing_scripts.indexOf(escaped) !== -1) {\n        if (!window.requirejs) {\n          on_load();\n        }\n        continue;\n      }\n      var element = document.createElement('script');\n      element.onload = on_load;\n      element.onerror = on_error;\n      element.async = false;\n      element.src = url;\n      element.type = \"module\";\n      console.debug(\"Bokeh: injecting script tag for BokehJS library: \", url);\n      document.head.appendChild(element);\n    }\n    for (const name in js_exports) {\n      const url = js_exports[name];\n      const escaped = encodeURI(url)\n      if (skip.indexOf(escaped) >= 0 || root[name] != null) {\n        if (!window.requirejs) {\n          on_load();\n        }\n        continue;\n      }\n      var element = document.createElement('script');\n      element.onerror = on_error;\n      element.async = false;\n      element.type = \"module\";\n      console.debug(\"Bokeh: injecting script tag for BokehJS library: \", url);\n      element.textContent = `\n      import ${name} from \"${url}\"\n      window.${name} = ${name}\n      window._bokeh_on_load()\n      `\n      document.head.appendChild(element);\n    }\n    if (!js_urls.length && !js_modules.length) {\n      on_load()\n    }\n  };\n\n  function inject_raw_css(css) {\n    const element = document.createElement(\"style\");\n    element.appendChild(document.createTextNode(css));\n    document.body.appendChild(element);\n  }\n\n  const js_urls = [\"https://cdn.holoviz.org/panel/1.5.2/dist/bundled/reactiveesm/es-module-shims@^1.10.0/dist/es-module-shims.min.js\", \"https://cdn.bokeh.org/bokeh/release/bokeh-3.6.0.min.js\", \"https://cdn.bokeh.org/bokeh/release/bokeh-gl-3.6.0.min.js\", \"https://cdn.bokeh.org/bokeh/release/bokeh-widgets-3.6.0.min.js\", \"https://cdn.bokeh.org/bokeh/release/bokeh-tables-3.6.0.min.js\", \"https://cdn.holoviz.org/panel/1.5.2/dist/panel.min.js\"];\n  const js_modules = [];\n  const js_exports = {};\n  const css_urls = [];\n  const inline_js = [    function(Bokeh) {\n      Bokeh.set_log_level(\"info\");\n    },\nfunction(Bokeh) {} // ensure no trailing comma for IE\n  ];\n\n  function run_inline_js() {\n    if ((root.Bokeh !== undefined) || (force === true)) {\n      for (let i = 0; i < inline_js.length; i++) {\n        try {\n          inline_js[i].call(root, root.Bokeh);\n        } catch(e) {\n          if (!reloading) {\n            throw e;\n          }\n        }\n      }\n      // Cache old bokeh versions\n      if (Bokeh != undefined && !reloading) {\n        var NewBokeh = root.Bokeh;\n        if (Bokeh.versions === undefined) {\n          Bokeh.versions = new Map();\n        }\n        if (NewBokeh.version !== Bokeh.version) {\n          Bokeh.versions.set(NewBokeh.version, NewBokeh)\n        }\n        root.Bokeh = Bokeh;\n      }\n    } else if (Date.now() < root._bokeh_timeout) {\n      setTimeout(run_inline_js, 100);\n    } else if (!root._bokeh_failed_load) {\n      console.log(\"Bokeh: BokehJS failed to load within specified timeout.\");\n      root._bokeh_failed_load = true;\n    }\n    root._bokeh_is_initializing = false\n  }\n\n  function load_or_wait() {\n    // Implement a backoff loop that tries to ensure we do not load multiple\n    // versions of Bokeh and its dependencies at the same time.\n    // In recent versions we use the root._bokeh_is_initializing flag\n    // to determine whether there is an ongoing attempt to initialize\n    // bokeh, however for backward compatibility we also try to ensure\n    // that we do not start loading a newer (Panel>=1.0 and Bokeh>3) version\n    // before older versions are fully initialized.\n    if (root._bokeh_is_initializing && Date.now() > root._bokeh_timeout) {\n      // If the timeout and bokeh was not successfully loaded we reset\n      // everything and try loading again\n      root._bokeh_timeout = Date.now() + 5000;\n      root._bokeh_is_initializing = false;\n      root._bokeh_onload_callbacks = undefined;\n      root._bokeh_is_loading = 0\n      console.log(\"Bokeh: BokehJS was loaded multiple times but one version failed to initialize.\");\n      load_or_wait();\n    } else if (root._bokeh_is_initializing || (typeof root._bokeh_is_initializing === \"undefined\" && root._bokeh_onload_callbacks !== undefined)) {\n      setTimeout(load_or_wait, 100);\n    } else {\n      root._bokeh_is_initializing = true\n      root._bokeh_onload_callbacks = []\n      const bokeh_loaded = root.Bokeh != null && (root.Bokeh.version === py_version || (root.Bokeh.versions !== undefined && root.Bokeh.versions.has(py_version)));\n      if (!reloading && !bokeh_loaded) {\n        if (root.Bokeh) {\n          root.Bokeh = undefined;\n        }\n        console.debug(\"Bokeh: BokehJS not loaded, scheduling load and callback at\", now());\n      }\n      load_libs(css_urls, js_urls, js_modules, js_exports, function() {\n        console.debug(\"Bokeh: BokehJS plotting callback run at\", now());\n        run_inline_js();\n      });\n    }\n  }\n  // Give older versions of the autoload script a head-start to ensure\n  // they initialize before we start loading newer version.\n  setTimeout(load_or_wait, 100)\n}(window));",
      "application/vnd.holoviews_load.v0+json": ""
     },
     "metadata": {},
     "output_type": "display_data"
    },
    {
     "data": {
      "application/javascript": "\nif ((window.PyViz === undefined) || (window.PyViz instanceof HTMLElement)) {\n  window.PyViz = {comms: {}, comm_status:{}, kernels:{}, receivers: {}, plot_index: []}\n}\n\n\n    function JupyterCommManager() {\n    }\n\n    JupyterCommManager.prototype.register_target = function(plot_id, comm_id, msg_handler) {\n      if (window.comm_manager || ((window.Jupyter !== undefined) && (Jupyter.notebook.kernel != null))) {\n        var comm_manager = window.comm_manager || Jupyter.notebook.kernel.comm_manager;\n        comm_manager.register_target(comm_id, function(comm) {\n          comm.on_msg(msg_handler);\n        });\n      } else if ((plot_id in window.PyViz.kernels) && (window.PyViz.kernels[plot_id])) {\n        window.PyViz.kernels[plot_id].registerCommTarget(comm_id, function(comm) {\n          comm.onMsg = msg_handler;\n        });\n      } else if (typeof google != 'undefined' && google.colab.kernel != null) {\n        google.colab.kernel.comms.registerTarget(comm_id, (comm) => {\n          var messages = comm.messages[Symbol.asyncIterator]();\n          function processIteratorResult(result) {\n            var message = result.value;\n            console.log(message)\n            var content = {data: message.data, comm_id};\n            var buffers = []\n            for (var buffer of message.buffers || []) {\n              buffers.push(new DataView(buffer))\n            }\n            var metadata = message.metadata || {};\n            var msg = {content, buffers, metadata}\n            msg_handler(msg);\n            return messages.next().then(processIteratorResult);\n          }\n          return messages.next().then(processIteratorResult);\n        })\n      }\n    }\n\n    JupyterCommManager.prototype.get_client_comm = function(plot_id, comm_id, msg_handler) {\n      if (comm_id in window.PyViz.comms) {\n        return window.PyViz.comms[comm_id];\n      } else if (window.comm_manager || ((window.Jupyter !== undefined) && (Jupyter.notebook.kernel != null))) {\n        var comm_manager = window.comm_manager || Jupyter.notebook.kernel.comm_manager;\n        var comm = comm_manager.new_comm(comm_id, {}, {}, {}, comm_id);\n        if (msg_handler) {\n          comm.on_msg(msg_handler);\n        }\n      } else if ((plot_id in window.PyViz.kernels) && (window.PyViz.kernels[plot_id])) {\n        var comm = window.PyViz.kernels[plot_id].connectToComm(comm_id);\n        comm.open();\n        if (msg_handler) {\n          comm.onMsg = msg_handler;\n        }\n      } else if (typeof google != 'undefined' && google.colab.kernel != null) {\n        var comm_promise = google.colab.kernel.comms.open(comm_id)\n        comm_promise.then((comm) => {\n          window.PyViz.comms[comm_id] = comm;\n          if (msg_handler) {\n            var messages = comm.messages[Symbol.asyncIterator]();\n            function processIteratorResult(result) {\n              var message = result.value;\n              var content = {data: message.data};\n              var metadata = message.metadata || {comm_id};\n              var msg = {content, metadata}\n              msg_handler(msg);\n              return messages.next().then(processIteratorResult);\n            }\n            return messages.next().then(processIteratorResult);\n          }\n        }) \n        var sendClosure = (data, metadata, buffers, disposeOnDone) => {\n          return comm_promise.then((comm) => {\n            comm.send(data, metadata, buffers, disposeOnDone);\n          });\n        };\n        var comm = {\n          send: sendClosure\n        };\n      }\n      window.PyViz.comms[comm_id] = comm;\n      return comm;\n    }\n    window.PyViz.comm_manager = new JupyterCommManager();\n    \n\n\nvar JS_MIME_TYPE = 'application/javascript';\nvar HTML_MIME_TYPE = 'text/html';\nvar EXEC_MIME_TYPE = 'application/vnd.holoviews_exec.v0+json';\nvar CLASS_NAME = 'output';\n\n/**\n * Render data to the DOM node\n */\nfunction render(props, node) {\n  var div = document.createElement(\"div\");\n  var script = document.createElement(\"script\");\n  node.appendChild(div);\n  node.appendChild(script);\n}\n\n/**\n * Handle when a new output is added\n */\nfunction handle_add_output(event, handle) {\n  var output_area = handle.output_area;\n  var output = handle.output;\n  if ((output.data == undefined) || (!output.data.hasOwnProperty(EXEC_MIME_TYPE))) {\n    return\n  }\n  var id = output.metadata[EXEC_MIME_TYPE][\"id\"];\n  var toinsert = output_area.element.find(\".\" + CLASS_NAME.split(' ')[0]);\n  if (id !== undefined) {\n    var nchildren = toinsert.length;\n    var html_node = toinsert[nchildren-1].children[0];\n    html_node.innerHTML = output.data[HTML_MIME_TYPE];\n    var scripts = [];\n    var nodelist = html_node.querySelectorAll(\"script\");\n    for (var i in nodelist) {\n      if (nodelist.hasOwnProperty(i)) {\n        scripts.push(nodelist[i])\n      }\n    }\n\n    scripts.forEach( function (oldScript) {\n      var newScript = document.createElement(\"script\");\n      var attrs = [];\n      var nodemap = oldScript.attributes;\n      for (var j in nodemap) {\n        if (nodemap.hasOwnProperty(j)) {\n          attrs.push(nodemap[j])\n        }\n      }\n      attrs.forEach(function(attr) { newScript.setAttribute(attr.name, attr.value) });\n      newScript.appendChild(document.createTextNode(oldScript.innerHTML));\n      oldScript.parentNode.replaceChild(newScript, oldScript);\n    });\n    if (JS_MIME_TYPE in output.data) {\n      toinsert[nchildren-1].children[1].textContent = output.data[JS_MIME_TYPE];\n    }\n    output_area._hv_plot_id = id;\n    if ((window.Bokeh !== undefined) && (id in Bokeh.index)) {\n      window.PyViz.plot_index[id] = Bokeh.index[id];\n    } else {\n      window.PyViz.plot_index[id] = null;\n    }\n  } else if (output.metadata[EXEC_MIME_TYPE][\"server_id\"] !== undefined) {\n    var bk_div = document.createElement(\"div\");\n    bk_div.innerHTML = output.data[HTML_MIME_TYPE];\n    var script_attrs = bk_div.children[0].attributes;\n    for (var i = 0; i < script_attrs.length; i++) {\n      toinsert[toinsert.length - 1].childNodes[1].setAttribute(script_attrs[i].name, script_attrs[i].value);\n    }\n    // store reference to server id on output_area\n    output_area._bokeh_server_id = output.metadata[EXEC_MIME_TYPE][\"server_id\"];\n  }\n}\n\n/**\n * Handle when an output is cleared or removed\n */\nfunction handle_clear_output(event, handle) {\n  var id = handle.cell.output_area._hv_plot_id;\n  var server_id = handle.cell.output_area._bokeh_server_id;\n  if (((id === undefined) || !(id in PyViz.plot_index)) && (server_id !== undefined)) { return; }\n  var comm = window.PyViz.comm_manager.get_client_comm(\"hv-extension-comm\", \"hv-extension-comm\", function () {});\n  if (server_id !== null) {\n    comm.send({event_type: 'server_delete', 'id': server_id});\n    return;\n  } else if (comm !== null) {\n    comm.send({event_type: 'delete', 'id': id});\n  }\n  delete PyViz.plot_index[id];\n  if ((window.Bokeh !== undefined) & (id in window.Bokeh.index)) {\n    var doc = window.Bokeh.index[id].model.document\n    doc.clear();\n    const i = window.Bokeh.documents.indexOf(doc);\n    if (i > -1) {\n      window.Bokeh.documents.splice(i, 1);\n    }\n  }\n}\n\n/**\n * Handle kernel restart event\n */\nfunction handle_kernel_cleanup(event, handle) {\n  delete PyViz.comms[\"hv-extension-comm\"];\n  window.PyViz.plot_index = {}\n}\n\n/**\n * Handle update_display_data messages\n */\nfunction handle_update_output(event, handle) {\n  handle_clear_output(event, {cell: {output_area: handle.output_area}})\n  handle_add_output(event, handle)\n}\n\nfunction register_renderer(events, OutputArea) {\n  function append_mime(data, metadata, element) {\n    // create a DOM node to render to\n    var toinsert = this.create_output_subarea(\n    metadata,\n    CLASS_NAME,\n    EXEC_MIME_TYPE\n    );\n    this.keyboard_manager.register_events(toinsert);\n    // Render to node\n    var props = {data: data, metadata: metadata[EXEC_MIME_TYPE]};\n    render(props, toinsert[0]);\n    element.append(toinsert);\n    return toinsert\n  }\n\n  events.on('output_added.OutputArea', handle_add_output);\n  events.on('output_updated.OutputArea', handle_update_output);\n  events.on('clear_output.CodeCell', handle_clear_output);\n  events.on('delete.Cell', handle_clear_output);\n  events.on('kernel_ready.Kernel', handle_kernel_cleanup);\n\n  OutputArea.prototype.register_mime_type(EXEC_MIME_TYPE, append_mime, {\n    safe: true,\n    index: 0\n  });\n}\n\nif (window.Jupyter !== undefined) {\n  try {\n    var events = require('base/js/events');\n    var OutputArea = require('notebook/js/outputarea').OutputArea;\n    if (OutputArea.prototype.mime_types().indexOf(EXEC_MIME_TYPE) == -1) {\n      register_renderer(events, OutputArea);\n    }\n  } catch(err) {\n  }\n}\n",
      "application/vnd.holoviews_load.v0+json": ""
     },
     "metadata": {},
     "output_type": "display_data"
    },
    {
     "data": {
      "application/vnd.holoviews_exec.v0+json": "",
      "text/html": [
       "<div id='7feae65d-2dd8-4d6f-9e8b-6d40f8b1e74f'>\n",
       "  <div id=\"d47508d6-8430-4391-b3f1-21202a6e5af3\" data-root-id=\"7feae65d-2dd8-4d6f-9e8b-6d40f8b1e74f\" style=\"display: contents;\"></div>\n",
       "</div>\n",
       "<script type=\"application/javascript\">(function(root) {\n",
       "  var docs_json = {\"3a30ea46-f549-4803-99c5-e3814b775c7d\":{\"version\":\"3.6.0\",\"title\":\"Bokeh Application\",\"roots\":[{\"type\":\"object\",\"name\":\"panel.models.browser.BrowserInfo\",\"id\":\"7feae65d-2dd8-4d6f-9e8b-6d40f8b1e74f\"},{\"type\":\"object\",\"name\":\"panel.models.comm_manager.CommManager\",\"id\":\"ab008c80-2630-43cf-9552-a1841b922792\",\"attributes\":{\"plot_id\":\"7feae65d-2dd8-4d6f-9e8b-6d40f8b1e74f\",\"comm_id\":\"3ae4204219bd43ff9c990887e7040848\",\"client_comm_id\":\"bb2f06a5d6ff425ab6d47d1140d208b3\"}}],\"defs\":[{\"type\":\"model\",\"name\":\"ReactiveHTML1\"},{\"type\":\"model\",\"name\":\"FlexBox1\",\"properties\":[{\"name\":\"align_content\",\"kind\":\"Any\",\"default\":\"flex-start\"},{\"name\":\"align_items\",\"kind\":\"Any\",\"default\":\"flex-start\"},{\"name\":\"flex_direction\",\"kind\":\"Any\",\"default\":\"row\"},{\"name\":\"flex_wrap\",\"kind\":\"Any\",\"default\":\"wrap\"},{\"name\":\"gap\",\"kind\":\"Any\",\"default\":\"\"},{\"name\":\"justify_content\",\"kind\":\"Any\",\"default\":\"flex-start\"}]},{\"type\":\"model\",\"name\":\"FloatPanel1\",\"properties\":[{\"name\":\"config\",\"kind\":\"Any\",\"default\":{\"type\":\"map\"}},{\"name\":\"contained\",\"kind\":\"Any\",\"default\":true},{\"name\":\"position\",\"kind\":\"Any\",\"default\":\"right-top\"},{\"name\":\"offsetx\",\"kind\":\"Any\",\"default\":null},{\"name\":\"offsety\",\"kind\":\"Any\",\"default\":null},{\"name\":\"theme\",\"kind\":\"Any\",\"default\":\"primary\"},{\"name\":\"status\",\"kind\":\"Any\",\"default\":\"normalized\"}]},{\"type\":\"model\",\"name\":\"GridStack1\",\"properties\":[{\"name\":\"mode\",\"kind\":\"Any\",\"default\":\"warn\"},{\"name\":\"ncols\",\"kind\":\"Any\",\"default\":null},{\"name\":\"nrows\",\"kind\":\"Any\",\"default\":null},{\"name\":\"allow_resize\",\"kind\":\"Any\",\"default\":true},{\"name\":\"allow_drag\",\"kind\":\"Any\",\"default\":true},{\"name\":\"state\",\"kind\":\"Any\",\"default\":[]}]},{\"type\":\"model\",\"name\":\"drag1\",\"properties\":[{\"name\":\"slider_width\",\"kind\":\"Any\",\"default\":5},{\"name\":\"slider_color\",\"kind\":\"Any\",\"default\":\"black\"},{\"name\":\"value\",\"kind\":\"Any\",\"default\":50}]},{\"type\":\"model\",\"name\":\"click1\",\"properties\":[{\"name\":\"terminal_output\",\"kind\":\"Any\",\"default\":\"\"},{\"name\":\"debug_name\",\"kind\":\"Any\",\"default\":\"\"},{\"name\":\"clears\",\"kind\":\"Any\",\"default\":0}]},{\"type\":\"model\",\"name\":\"FastWrapper1\",\"properties\":[{\"name\":\"object\",\"kind\":\"Any\",\"default\":null},{\"name\":\"style\",\"kind\":\"Any\",\"default\":null}]},{\"type\":\"model\",\"name\":\"NotificationAreaBase1\",\"properties\":[{\"name\":\"js_events\",\"kind\":\"Any\",\"default\":{\"type\":\"map\"}},{\"name\":\"position\",\"kind\":\"Any\",\"default\":\"bottom-right\"},{\"name\":\"_clear\",\"kind\":\"Any\",\"default\":0}]},{\"type\":\"model\",\"name\":\"NotificationArea1\",\"properties\":[{\"name\":\"js_events\",\"kind\":\"Any\",\"default\":{\"type\":\"map\"}},{\"name\":\"notifications\",\"kind\":\"Any\",\"default\":[]},{\"name\":\"position\",\"kind\":\"Any\",\"default\":\"bottom-right\"},{\"name\":\"_clear\",\"kind\":\"Any\",\"default\":0},{\"name\":\"types\",\"kind\":\"Any\",\"default\":[{\"type\":\"map\",\"entries\":[[\"type\",\"warning\"],[\"background\",\"#ffc107\"],[\"icon\",{\"type\":\"map\",\"entries\":[[\"className\",\"fas fa-exclamation-triangle\"],[\"tagName\",\"i\"],[\"color\",\"white\"]]}]]},{\"type\":\"map\",\"entries\":[[\"type\",\"info\"],[\"background\",\"#007bff\"],[\"icon\",{\"type\":\"map\",\"entries\":[[\"className\",\"fas fa-info-circle\"],[\"tagName\",\"i\"],[\"color\",\"white\"]]}]]}]}]},{\"type\":\"model\",\"name\":\"Notification\",\"properties\":[{\"name\":\"background\",\"kind\":\"Any\",\"default\":null},{\"name\":\"duration\",\"kind\":\"Any\",\"default\":3000},{\"name\":\"icon\",\"kind\":\"Any\",\"default\":null},{\"name\":\"message\",\"kind\":\"Any\",\"default\":\"\"},{\"name\":\"notification_type\",\"kind\":\"Any\",\"default\":null},{\"name\":\"_destroyed\",\"kind\":\"Any\",\"default\":false}]},{\"type\":\"model\",\"name\":\"TemplateActions1\",\"properties\":[{\"name\":\"open_modal\",\"kind\":\"Any\",\"default\":0},{\"name\":\"close_modal\",\"kind\":\"Any\",\"default\":0}]},{\"type\":\"model\",\"name\":\"BootstrapTemplateActions1\",\"properties\":[{\"name\":\"open_modal\",\"kind\":\"Any\",\"default\":0},{\"name\":\"close_modal\",\"kind\":\"Any\",\"default\":0}]},{\"type\":\"model\",\"name\":\"TemplateEditor1\",\"properties\":[{\"name\":\"layout\",\"kind\":\"Any\",\"default\":[]}]},{\"type\":\"model\",\"name\":\"MaterialTemplateActions1\",\"properties\":[{\"name\":\"open_modal\",\"kind\":\"Any\",\"default\":0},{\"name\":\"close_modal\",\"kind\":\"Any\",\"default\":0}]},{\"type\":\"model\",\"name\":\"ReactiveESM1\"},{\"type\":\"model\",\"name\":\"JSComponent1\"},{\"type\":\"model\",\"name\":\"ReactComponent1\"},{\"type\":\"model\",\"name\":\"AnyWidgetComponent1\"},{\"type\":\"model\",\"name\":\"request_value1\",\"properties\":[{\"name\":\"fill\",\"kind\":\"Any\",\"default\":\"none\"},{\"name\":\"_synced\",\"kind\":\"Any\",\"default\":null},{\"name\":\"_request_sync\",\"kind\":\"Any\",\"default\":0}]}]}};\n",
       "  var render_items = [{\"docid\":\"3a30ea46-f549-4803-99c5-e3814b775c7d\",\"roots\":{\"7feae65d-2dd8-4d6f-9e8b-6d40f8b1e74f\":\"d47508d6-8430-4391-b3f1-21202a6e5af3\"},\"root_ids\":[\"7feae65d-2dd8-4d6f-9e8b-6d40f8b1e74f\"]}];\n",
       "  var docs = Object.values(docs_json)\n",
       "  if (!docs) {\n",
       "    return\n",
       "  }\n",
       "  const py_version = docs[0].version.replace('rc', '-rc.').replace('.dev', '-dev.')\n",
       "  async function embed_document(root) {\n",
       "    var Bokeh = get_bokeh(root)\n",
       "    await Bokeh.embed.embed_items_notebook(docs_json, render_items);\n",
       "    for (const render_item of render_items) {\n",
       "      for (const root_id of render_item.root_ids) {\n",
       "\tconst id_el = document.getElementById(root_id)\n",
       "\tif (id_el.children.length && id_el.children[0].hasAttribute('data-root-id')) {\n",
       "\t  const root_el = id_el.children[0]\n",
       "\t  root_el.id = root_el.id + '-rendered'\n",
       "\t  for (const child of root_el.children) {\n",
       "            // Ensure JupyterLab does not capture keyboard shortcuts\n",
       "            // see: https://jupyterlab.readthedocs.io/en/4.1.x/extension/notebook.html#keyboard-interaction-model\n",
       "\t    child.setAttribute('data-lm-suppress-shortcuts', 'true')\n",
       "\t  }\n",
       "\t}\n",
       "      }\n",
       "    }\n",
       "  }\n",
       "  function get_bokeh(root) {\n",
       "    if (root.Bokeh === undefined) {\n",
       "      return null\n",
       "    } else if (root.Bokeh.version !== py_version) {\n",
       "      if (root.Bokeh.versions === undefined || !root.Bokeh.versions.has(py_version)) {\n",
       "\treturn null\n",
       "      }\n",
       "      return root.Bokeh.versions.get(py_version);\n",
       "    } else if (root.Bokeh.version === py_version) {\n",
       "      return root.Bokeh\n",
       "    }\n",
       "    return null\n",
       "  }\n",
       "  function is_loaded(root) {\n",
       "    var Bokeh = get_bokeh(root)\n",
       "    return (Bokeh != null && Bokeh.Panel !== undefined)\n",
       "  }\n",
       "  if (is_loaded(root)) {\n",
       "    embed_document(root);\n",
       "  } else {\n",
       "    var attempts = 0;\n",
       "    var timer = setInterval(function(root) {\n",
       "      if (is_loaded(root)) {\n",
       "        clearInterval(timer);\n",
       "        embed_document(root);\n",
       "      } else if (document.readyState == \"complete\") {\n",
       "        attempts++;\n",
       "        if (attempts > 200) {\n",
       "          clearInterval(timer);\n",
       "\t  var Bokeh = get_bokeh(root)\n",
       "\t  if (Bokeh == null || Bokeh.Panel == null) {\n",
       "            console.warn(\"Panel: ERROR: Unable to run Panel code because Bokeh or Panel library is missing\");\n",
       "\t  } else {\n",
       "\t    console.warn(\"Panel: WARNING: Attempting to render but not all required libraries could be resolved.\")\n",
       "\t    embed_document(root)\n",
       "\t  }\n",
       "        }\n",
       "      }\n",
       "    }, 25, root)\n",
       "  }\n",
       "})(window);</script>"
      ]
     },
     "metadata": {
      "application/vnd.holoviews_exec.v0+json": {
       "id": "7feae65d-2dd8-4d6f-9e8b-6d40f8b1e74f"
      }
     },
     "output_type": "display_data"
    }
   ],
   "source": [
    "import panel as pn\n",
    "pn.extension(comms='vscode')"
   ]
  },
  {
   "cell_type": "code",
   "execution_count": 12,
   "metadata": {},
   "outputs": [
    {
     "data": {
      "application/vnd.jupyter.widget-view+json": {
       "model_id": "9ca05affe6d74ef3be858c681784afc8",
       "version_major": 2,
       "version_minor": 0
      },
      "text/plain": [
       "BokehModel(combine_events=True, render_bundle={'docs_json': {'e8e3d4d4-9c04-4c29-9c65-9ad328259711': {'version…"
      ]
     },
     "execution_count": 12,
     "metadata": {},
     "output_type": "execute_result"
    }
   ],
   "source": [
    "def generate_augmented_listings(query):\n",
    "    # search the Chroma collection with the query\n",
    "    # results = chroma_collection.query(query_texts=[query], n_results=2)\n",
    "    query_embedding = model.encode(query).tolist() * 2 \n",
    "    results = chroma_collection.query(query_embeddings=[query_embedding], n_results=2)\n",
    "    listings = []\n",
    "    for result in results['metadatas']:\n",
    "        for metadata in result:\n",
    "            listings.append({\n",
    "                \"Neighborhood\": metadata['neighborhood'],\n",
    "                \"Bedrooms\": metadata['bedrooms'],\n",
    "                \"Price\": metadata['price'],\n",
    "                \"Description\": metadata['description']\n",
    "            })\n",
    "\n",
    "    messages=[\n",
    "            {\n",
    "                \"role\": \"system\", \n",
    "                \"content\": \"You are a helpful expert real estate assistant. Your users are asking questions about information contained in real estate listings.\"\n",
    "                \"You will be shown the user's question and the relevant information from the listings. Answer the user's question using only this information.\"\n",
    "            },\n",
    "            {\n",
    "                \"role\": \"user\", \n",
    "                \"content\": f\"Question: {query}. \\n Listings: {listings}\"\n",
    "            },\n",
    "        ]\n",
    "    \n",
    "    response = openai.ChatCompletion.create(\n",
    "            model=\"gpt-3.5-turbo\",\n",
    "            messages=messages,\n",
    "            temperature=0,\n",
    "            max_tokens=250\n",
    "        )\n",
    "    content = response.choices[0]['message']['content']\n",
    "    return content\n",
    "\n",
    "\n",
    "# Define the widget\n",
    "requirements_widget = pn.widgets.TextAreaInput(name='Enter Your Preferences', placeholder='Describe your ideal property...')\n",
    "\n",
    "# Button to submit\n",
    "submit_button = pn.widgets.Button(name='Submit', button_type='primary')\n",
    "output = pn.pane.Markdown()\n",
    "\n",
    "# Define the callback function\n",
    "def collect_preferences(event):\n",
    "    requirements = requirements_widget.value\n",
    "    \n",
    "    # Process natural language input\n",
    "    preferences = generate_augmented_listings(requirements)\n",
    "    \n",
    "    # Display collected preferences\n",
    "    output.object = f\"\"\"\n",
    "    **Collected Preferences:**\n",
    "    {requirements}\n",
    "\n",
    "    **Interpreted Preferences:**\n",
    "    {preferences}\n",
    "    \"\"\"\n",
    "\n",
    "submit_button.on_click(collect_preferences)\n",
    "\n",
    "# Layout\n",
    "layout = pn.Column(\n",
    "    '# Buyer Preferences',\n",
    "    requirements_widget,\n",
    "    submit_button,\n",
    "    output\n",
    ")\n",
    "\n",
    "# Use .servable() for inline rendering\n",
    "layout.servable()"
   ]
  },
  {
   "cell_type": "code",
   "execution_count": 17,
   "metadata": {},
   "outputs": [],
   "source": [
    "# Save the Panel layout to an HTML file\n",
    "layout.save('layout.html')\n"
   ]
  },
  {
   "cell_type": "markdown",
   "metadata": {},
   "source": [
    "### Alternative Response Generation"
   ]
  },
  {
   "cell_type": "code",
   "execution_count": 15,
   "metadata": {},
   "outputs": [
    {
     "data": {
      "application/vnd.jupyter.widget-view+json": {
       "model_id": "944684eee69340b6afb1571f69713f26",
       "version_major": 2,
       "version_minor": 0
      },
      "text/plain": [
       "BokehModel(combine_events=True, render_bundle={'docs_json': {'78137082-3029-4ce3-b749-5fdc8adb2c58': {'version…"
      ]
     },
     "execution_count": 15,
     "metadata": {},
     "output_type": "execute_result"
    }
   ],
   "source": [
    "\n",
    "\n",
    "panels = [] # collect display \n",
    "\n",
    "context = [ {'role':'system', 'content':\"\"\"\n",
    "You are PropertyBot, an automated service to help customers find their dream home. \n",
    "You first greet the customer, then collect their preferences, and then offer suggestions based on their criteria. \n",
    "You wait to collect the entire list of preferences, then summarize them and check for a final time if the customer \n",
    "wants to add anything else. Finally, you provide a single property recommendation that matches their preferences. \n",
    "Make sure to include at least the price and the neighborhood in the recommendation.\n",
    "\n",
    "Make sure to clarify all preferences, such as location, price range, number of bedrooms, and amenities. \n",
    "You respond in a short, very conversational friendly style. \n",
    "\n",
    "Here are some examples of preferences you can collect:\n",
    "* **Location:** City, neighborhood, proximity to amenities (e.g., schools, parks, public transportation)\n",
    "* **Price:** Budget range\n",
    "* **Property type:** House, apartment, condo, etc.\n",
    "* **Size:** Number of bedrooms, bathrooms, square footage\n",
    "* **Amenities:** Garage, backyard, pool, etc.\n",
    "* **Style:** Modern, traditional, rustic, etc.\n",
    "\n",
    "Let's get started! What are you looking for in a new home?\n",
    "\"\"\"} ] \n",
    "\n",
    "# To keep track of collected preferences\n",
    "preferences_collected = {\n",
    "    # 'location': False,\n",
    "    # 'price': False,\n",
    "    # 'property_type': False,\n",
    "    # 'size': False,\n",
    "    # 'amenities': False,\n",
    "    # 'style': False,\n",
    "    'description': False\n",
    "}\n",
    "\n",
    "def rag(context, model=\"gpt-3.5-turbo\", temperature=0):\n",
    "    # Extract the user's preferences from the context\n",
    "    user_message = context[-1]['content']\n",
    "\n",
    "    all_collected = all(preferences_collected.values())\n",
    "\n",
    "    if all_collected:\n",
    "        # Query ChromaDB based on user_message\n",
    "        query_embedding =  SentenceTransformer('all-MiniLM-L6-v2').encode(user_message).tolist() * 2 \n",
    "        results = chroma_collection.query(query_embeddings=[query_embedding], n_results=1)\n",
    "\n",
    "        # Get the most relevant result\n",
    "        if results:\n",
    "            listing = results['metadatas'][0][0]\n",
    "            recommendation = f\"Property Recommendation: \\n\\n**Neighborhood:** {listing['neighborhood']}\\n**Price:** {listing['price']}\\n**Details:** {listing['description']}\\n**Neighborhood Description:** {listing['neighborhood description']}\"\n",
    "        else:\n",
    "            recommendation = \"I'm sorry, but I couldn't find any properties that match your preferences.\"\n",
    "\n",
    "        return recommendation\n",
    "    else:\n",
    "        # Continue asking for more preferences\n",
    "        for key in preferences_collected.keys():\n",
    "            if not preferences_collected[key]:\n",
    "                preferences_collected[key] = True\n",
    "                return f\"Can you please tell me about your {key.replace('_', ' ')}?\"\n",
    "    \n",
    "    return \"I have collected all the necessary information.\"\n",
    "\n",
    "\n",
    "def collect_preferences(event):\n",
    "    prompt = inp.value_input\n",
    "    inp.value = ''\n",
    "    context.append({'role':'user', 'content':f\"{prompt}\"})\n",
    "    response = rag(context) \n",
    "    context.append({'role':'assistant', 'content':f\"{response}\"})\n",
    "    panels.append(\n",
    "        pn.Row('User:', pn.pane.Markdown(prompt, width=600)))\n",
    "    panels.append(\n",
    "        pn.Row('Assistant:', pn.pane.Markdown(response, width=600)))\n",
    "    \n",
    "    interactive_panel.object = [pn.Column(*panels)]\n",
    " \n",
    "    return pn.Column(*panels)\n",
    "\n",
    "inp = pn.widgets.TextInput(value=\"Hi\", placeholder='Enter text here…')\n",
    "button_conversation = pn.widgets.Button(name=\"Chat!\")\n",
    "interactive_conversation = pn.bind(collect_preferences, button_conversation)\n",
    "interactive_panel = pn.Column()\n",
    "\n",
    "\n",
    "dashboard = pn.Column(\n",
    "    inp,\n",
    "    pn.Row(button_conversation),\n",
    "    pn.panel(interactive_conversation, loading_indicator=True, width=2400, height=400),\n",
    "    interactive_panel\n",
    ")\n",
    "\n",
    "dashboard.servable()"
   ]
  },
  {
   "cell_type": "code",
   "execution_count": 16,
   "metadata": {},
   "outputs": [
    {
     "name": "stderr",
     "output_type": "stream",
     "text": [
      "WARNING:bokeh.core.validation.check:W-1002 (EMPTY_LAYOUT): Layout has no children: Column(id='8fbebca3-ee10-4817-a169-88f9b73732ee', ...)\n"
     ]
    }
   ],
   "source": [
    "# Save the Panel layout to an HTML file\n",
    "dashboard.save('dashboard.html')\n"
   ]
  },
  {
   "cell_type": "code",
   "execution_count": null,
   "metadata": {},
   "outputs": [],
   "source": []
  }
 ],
 "metadata": {
  "kernelspec": {
   "display_name": "llm-agent",
   "language": "python",
   "name": "python3"
  },
  "language_info": {
   "codemirror_mode": {
    "name": "ipython",
    "version": 3
   },
   "file_extension": ".py",
   "mimetype": "text/x-python",
   "name": "python",
   "nbconvert_exporter": "python",
   "pygments_lexer": "ipython3",
   "version": "3.10.15"
  }
 },
 "nbformat": 4,
 "nbformat_minor": 2
}
